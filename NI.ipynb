{
 "cells": [
  {
   "cell_type": "code",
   "execution_count": 3,
   "metadata": {},
   "outputs": [
    {
     "name": "stdout",
     "output_type": "stream",
     "text": [
      "[5.0, 5.1344, 5.2976, 5.4896, 5.710400000000001, 5.96, 6.2383999999999995, 6.545599999999999, 6.8816, 7.2464, 7.640000000000001, 8.0624, 8.5136, 8.9936, 9.5024, 10.04, 10.6064, 11.2016, 11.825600000000001, 12.478399999999999, 13.16, 13.8704, 14.609599999999997, 15.377599999999997, 16.1744, 17.0, 17.854400000000002, 18.7376, 19.6496, 20.590400000000002, 21.559999999999995, 22.5584, 23.5856, 24.6416, 25.726399999999998, 26.84, 27.982400000000002, 29.153599999999997, 30.353599999999997, 31.582399999999996, 32.84, 34.1264, 35.4416, 36.7856, 38.15839999999999, 39.55999999999999, 40.990399999999994, 42.4496, 43.937599999999996, 45.45439999999999, 47.0]\n",
      "The approx integral by trapizoidal is  123.13439999999999\n"
     ]
    }
   ],
   "source": [
    "\n",
    "\n",
    "a=float(input('enter the left end : '))\n",
    "b=float(input('enter the right end : '))\n",
    "n=int(input('enter the number of intervals you want : '))\n",
    "h=(b-a)/n\n",
    "def f(x):\n",
    "    return 5+x+x**2\n",
    "\n",
    "y=[]\n",
    "i=0\n",
    "while i<=n:\n",
    "    x0=a+i*h\n",
    "    y.append(x0)\n",
    "    i+=1\n",
    "fx=[f(a) for a in y]\n",
    "print(fx)\n",
    "def trarizoidal(a,b,n):\n",
    "    z=0\n",
    "    for i in range(len(y)):\n",
    "        if i !=0 or i!=len(y)-1:\n",
    "            c=2*fx[i]\n",
    "        else :\n",
    "            c=fx[i]\n",
    "        z=z+c\n",
    "    q=(z*h)/2\n",
    "    return q\n",
    "def simpson(a,b,n):\n",
    "    z=0\n",
    "    for i in range(len(y)):\n",
    "        if i ==0 or i==len(y)-1:\n",
    "            c=fx[i]\n",
    "        elif i%2==0 & i!=len(y)-1:\n",
    "            c=2*fx[i]\n",
    "        else :\n",
    "            c=4*fx[i]\n",
    "        z=z+c\n",
    "    q=(z*h)/3\n",
    "    return q\n",
    "type=input('enter trapizoidal or simpson : ')\n",
    "if type == 'trapizoidal':\n",
    "    print('The approx integral by trapizoidal is ',trarizoidal(a,b,n))\n",
    "elif type == 'simpson':\n",
    "    print('The approx integral by simpson is ',simpson(a,b,n))\n",
    "else :\n",
    "    print('appropriate type ')"
   ]
  },
  {
   "cell_type": "code",
   "execution_count": null,
   "metadata": {},
   "outputs": [],
   "source": []
  }
 ],
 "metadata": {
  "kernelspec": {
   "display_name": "base",
   "language": "python",
   "name": "python3"
  },
  "language_info": {
   "codemirror_mode": {
    "name": "ipython",
    "version": 3
   },
   "file_extension": ".py",
   "mimetype": "text/x-python",
   "name": "python",
   "nbconvert_exporter": "python",
   "pygments_lexer": "ipython3",
   "version": "3.12.4"
  }
 },
 "nbformat": 4,
 "nbformat_minor": 2
}
