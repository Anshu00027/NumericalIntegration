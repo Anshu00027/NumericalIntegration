{
 "cells": [
  {
   "cell_type": "markdown",
   "metadata": {},
   "source": [
    "## euler's method "
   ]
  },
  {
   "cell_type": "code",
   "execution_count": 7,
   "metadata": {},
   "outputs": [
    {
     "name": "stdout",
     "output_type": "stream",
     "text": [
      "[0.0, 0.5, 1.0, 1.5, 2.0]\n",
      "[2, 4.0, 8.25, 17.0, 34.75]\n"
     ]
    }
   ],
   "source": [
    "def f(x,y):\n",
    "    return x+2*y\n",
    "\n",
    "x0=0\n",
    "y0=2\n",
    "x1=2\n",
    "h=0.5\n",
    "\n",
    "# x0=float(input('enter the initial point :'))\n",
    "# y0=float(input('function value at x0 :'))\n",
    "# x1=float(input('enter the point where you want the value of y to be cal :'))\n",
    "# h=float(input(' value of h  :'))\n",
    "n=int(((x1-x0)/h))\n",
    "x=[]\n",
    "for i in range(n+1):\n",
    "    xs=x0+i*h\n",
    "    x.append(xs)\n",
    "print(x)\n",
    "y= [y0]\n",
    "for i in range(1,n+1):\n",
    "    y.append(0)\n",
    "\n",
    "for i in range(1,n+1):\n",
    "    y[i]=y[i-1]+h*f(x[i-1],y[i-1])\n",
    "print(y)\n"
   ]
  },
  {
   "cell_type": "code",
   "execution_count": null,
   "metadata": {},
   "outputs": [],
   "source": []
  }
 ],
 "metadata": {
  "kernelspec": {
   "display_name": "base",
   "language": "python",
   "name": "python3"
  },
  "language_info": {
   "codemirror_mode": {
    "name": "ipython",
    "version": 3
   },
   "file_extension": ".py",
   "mimetype": "text/x-python",
   "name": "python",
   "nbconvert_exporter": "python",
   "pygments_lexer": "ipython3",
   "version": "3.12.4"
  }
 },
 "nbformat": 4,
 "nbformat_minor": 2
}
